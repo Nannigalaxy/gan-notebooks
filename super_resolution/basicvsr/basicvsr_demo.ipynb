{
 "cells": [
  {
   "cell_type": "markdown",
   "metadata": {
    "id": "A9VoEGTL_R50"
   },
   "source": [
    "# MMEditing Tutorial - Super Resolution\n",
    "\n",
    "Let's start!"
   ]
  },
  {
   "cell_type": "markdown",
   "metadata": {
    "id": "-R6v39d__uJl"
   },
   "source": [
    "## Install MMEditing"
   ]
  },
  {
   "cell_type": "code",
   "execution_count": null,
   "metadata": {
    "colab": {
     "base_uri": "https://localhost:8080/"
    },
    "id": "zU8mvIaV_xmR",
    "outputId": "9d48e0af-990f-4127-a0f0-6c5e932707c1"
   },
   "outputs": [],
   "source": [
    "# Install dependencies: (use cu101 because colab has CUDA 10.1)\n",
    "!pip install -U torch==1.5.1+cu101 torchvision==0.6.1+cu101 -f https://download.pytorch.org/whl/torch_stable.html\n",
    "\n",
    "# Install mmcv-full from source, this may take a while\n",
    "!MMCV_WITH_OPS=1 pip install 'git+https://github.com/open-mmlab/mmcv.git'\n",
    "\n",
    "# Install mmediting\n",
    "!rm -rf mmediting\n",
    "!git clone https://github.com/open-mmlab/mmediting.git\n",
    "%cd mmediting\n",
    "!pip install -e ."
   ]
  },
  {
   "cell_type": "code",
   "execution_count": null,
   "metadata": {
    "colab": {
     "base_uri": "https://localhost:8080/"
    },
    "id": "xEFmG75rGDar",
    "outputId": "c0e06daa-d5b5-4f72-faed-765cb31c0d51"
   },
   "outputs": [],
   "source": [
    "# Check Pytorch installation\n",
    "import torch, torchvision\n",
    "print(torch.__version__, torch.cuda.is_available())\n",
    "\n",
    "# Check MMEditing installation\n",
    "import mmedit\n",
    "print(mmedit.__version__)"
   ]
  },
  {
   "cell_type": "markdown",
   "metadata": {
    "id": "a-3YqEpeF9R6"
   },
   "source": [
    "## Perform inference with a MMEditing BasicVSR\n",
    "\n",
    "MMEditing already provides high level APIs to do inference and training."
   ]
  },
  {
   "cell_type": "code",
   "execution_count": null,
   "metadata": {
    "colab": {
     "base_uri": "https://localhost:8080/"
    },
    "id": "b453idV1F5aD",
    "outputId": "5f6b61fa-9564-4a0e-849f-49df40599957"
   },
   "outputs": [],
   "source": [
    "!wget https://download.openmmlab.com/mmediting/restorers/basicvsr/basicvsr_reds4_20120409-0e599677.pth"
   ]
  },
  {
   "cell_type": "markdown",
   "metadata": {
    "id": "Maj8S7No5Z3c"
   },
   "source": [
    "#### Change images file names"
   ]
  },
  {
   "cell_type": "code",
   "execution_count": null,
   "metadata": {
    "colab": {
     "base_uri": "https://localhost:8080/"
    },
    "id": "xpJ32PbDyTgj",
    "outputId": "def7a75a-973a-43db-f037-94cf9419a45e"
   },
   "outputs": [],
   "source": [
    "%%bash\n",
    "cd tests/data/vimeo90k/00001/0266/\n",
    "rename -v 's/im//' *.png\n",
    "rename -v 's/7/0/' *.png\n",
    "cd ../../../../../\n",
    "mkdir output"
   ]
  },
  {
   "cell_type": "markdown",
   "metadata": {
    "id": "rZ9BZXcEARqC"
   },
   "source": [
    "# Run Inference on Test images"
   ]
  },
  {
   "cell_type": "code",
   "execution_count": null,
   "metadata": {
    "colab": {
     "base_uri": "https://localhost:8080/"
    },
    "id": "6AjEIqZ1yTju",
    "outputId": "44d89bec-6717-48c2-8341-08cea5603a2a"
   },
   "outputs": [],
   "source": [
    "!python demo/restoration_video_demo.py configs/restorers/basicvsr/basicvsr_reds4.py basicvsr_reds4_20120409-0e599677.pth tests/data/vimeo90k/00001/0266/ output/ --filename_tmpl '{:01d}.png'"
   ]
  },
  {
   "cell_type": "markdown",
   "metadata": {
    "id": "c8C1CuuY_zuV"
   },
   "source": [
    "# Results"
   ]
  },
  {
   "cell_type": "code",
   "execution_count": null,
   "metadata": {
    "id": "FbEe8ASD3yy2"
   },
   "outputs": [],
   "source": [
    "from google.colab.patches import cv2_imshow"
   ]
  },
  {
   "cell_type": "code",
   "execution_count": null,
   "metadata": {
    "colab": {
     "base_uri": "https://localhost:8080/",
     "height": 116
    },
    "id": "kwn-3Bj84Lc8",
    "outputId": "e25ffb33-5419-4982-b1b2-ddc490ed9b8b"
   },
   "outputs": [],
   "source": [
    "# Input\n",
    "import cv2\n",
    "img = cv2.imread('tests/data/vimeo90k/00001/0266/1.png', cv2.IMREAD_UNCHANGED)\n",
    "print(\"Before\")\n",
    "print(f\"Height: {img.shape[0]}, Width: {img.shape[1]}\")\n",
    "cv2_imshow(img)"
   ]
  },
  {
   "cell_type": "code",
   "execution_count": null,
   "metadata": {
    "colab": {
     "base_uri": "https://localhost:8080/",
     "height": 308
    },
    "id": "RcqzfTVQ3yy4",
    "outputId": "9dc450c4-ca7d-4f8e-9b36-90930e1680df"
   },
   "outputs": [],
   "source": [
    "# Output\n",
    "import cv2\n",
    "img = cv2.imread('output/00000001.png', cv2.IMREAD_UNCHANGED)\n",
    "print(\"After\")\n",
    "print(f\"Height: {img.shape[0]}, Width: {img.shape[1]}\")\n",
    "cv2_imshow(img)"
   ]
  },
  {
   "cell_type": "code",
   "execution_count": null,
   "metadata": {
    "colab": {
     "base_uri": "https://localhost:8080/",
     "height": 34
    },
    "id": "jaTtW7VD2yFJ",
    "outputId": "067796e4-f057-40c9-a6c1-30069f52ec18"
   },
   "outputs": [],
   "source": [
    "# download output\n",
    "from google.colab import files\n",
    "files.download('output')"
   ]
  }
 ],
 "metadata": {
  "accelerator": "GPU",
  "colab": {
   "collapsed_sections": [],
   "name": "super_resolution_tutorial.ipynb",
   "provenance": []
  },
  "kernelspec": {
   "display_name": "Python 3",
   "language": "python",
   "name": "python3"
  },
  "language_info": {
   "codemirror_mode": {
    "name": "ipython",
    "version": 3
   },
   "file_extension": ".py",
   "mimetype": "text/x-python",
   "name": "python",
   "nbconvert_exporter": "python",
   "pygments_lexer": "ipython3",
   "version": "3.6.9"
  }
 },
 "nbformat": 4,
 "nbformat_minor": 1
}
